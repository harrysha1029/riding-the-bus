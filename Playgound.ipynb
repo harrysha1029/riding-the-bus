{
 "cells": [
  {
   "cell_type": "code",
   "execution_count": 2,
   "metadata": {},
   "outputs": [],
   "source": [
    "import pandas as pd\n",
    "\n",
    "data = (pd.read_csv(\"data/big.csv\").drop('Unnamed: 0',axis=1)\n",
    "        .assign(rules=lambda x: x.rules.map({\"RuleSet.Harsh\": 'harsh', 'RuleSet.Lenient':'lenient'}))\n",
    "        .assign(player=lambda x: x.player.map(lambda y: '\\\\varphi_{' + y[:-7] + \"}\"))\n",
    "       )"
   ]
  },
  {
   "cell_type": "code",
   "execution_count": 28,
   "metadata": {},
   "outputs": [],
   "source": [
    "data.groupby(['rules', 'player', 'n_values', 'n_suits'])['n_drinks'].describe()[['mean', 'std', '50%']].to_csv(\"data/simulation_stats.csv\", float_format='%.2f')"
   ]
  },
  {
   "cell_type": "code",
   "execution_count": 9,
   "metadata": {},
   "outputs": [],
   "source": [
    "guesses_infinite_df = pd.read_csv(\"data/guesses_stats.csv\")"
   ]
  },
  {
   "cell_type": "code",
   "execution_count": 16,
   "metadata": {},
   "outputs": [],
   "source": [
    "sum_df = guesses_infinite_df.sum()\n",
    "average = guesses_infinite_df.mean()"
   ]
  },
  {
   "cell_type": "code",
   "execution_count": 22,
   "metadata": {},
   "outputs": [
    {
     "name": "stdout",
     "output_type": "stream",
     "text": [
      "0.4993946649860152\n",
      "0.7871324990618008\n",
      "0.8055731577539192\n",
      "0.24972031324916094\n"
     ]
    }
   ],
   "source": [
    "print(sum_df.n_correct_q0/sum_df.n_q0)\n",
    "print(sum_df.n_correct_q1/sum_df.n_q1)\n",
    "print(sum_df.n_correct_q2/sum_df.n_q2)\n",
    "print(sum_df.n_correct_q3/sum_df.n_q3)\n"
   ]
  },
  {
   "cell_type": "code",
   "execution_count": 24,
   "metadata": {},
   "outputs": [
    {
     "name": "stdout",
     "output_type": "stream",
     "text": [
      "6.3306\n",
      "1.34432\n",
      "0.96649\n",
      "3.00448\n"
     ]
    }
   ],
   "source": [
    "print(sum_df.n_incorrect_q0/100000)\n",
    "print(sum_df.n_incorrect_q1/100000)\n",
    "print(sum_df.n_incorrect_q2/100000)\n",
    "print(sum_df.n_incorrect_q3/100000)\n"
   ]
  },
  {
   "cell_type": "code",
   "execution_count": 25,
   "metadata": {},
   "outputs": [
    {
     "data": {
      "text/plain": [
       "n_q0              1264589.0\n",
       "n_guesses         2793663.0\n",
       "n_correct_q0       631529.0\n",
       "n_q1               631529.0\n",
       "n_correct_q1       497097.0\n",
       "n_q2               497097.0\n",
       "n_correct_q2       400448.0\n",
       "n_q3               400448.0\n",
       "n_incorrect_q3     300448.0\n",
       "n_drinks          1164589.0\n",
       "n_correct_q3       100000.0\n",
       "n_incorrect_q1     134432.0\n",
       "n_incorrect_q2      96649.0\n",
       "n_incorrect_q0     633060.0\n",
       "dtype: float64"
      ]
     },
     "execution_count": 25,
     "metadata": {},
     "output_type": "execute_result"
    }
   ],
   "source": [
    "sum_df"
   ]
  },
  {
   "cell_type": "code",
   "execution_count": 26,
   "metadata": {},
   "outputs": [
    {
     "data": {
      "text/plain": [
       "631529.0"
      ]
     },
     "execution_count": 26,
     "metadata": {},
     "output_type": "execute_result"
    }
   ],
   "source": [
    "sum_df.n_correct_q1 + sum_df.n_incorrect_q1"
   ]
  },
  {
   "cell_type": "code",
   "execution_count": null,
   "metadata": {},
   "outputs": [],
   "source": []
  }
 ],
 "metadata": {
  "kernelspec": {
   "display_name": "Python 3",
   "language": "python",
   "name": "python3"
  },
  "language_info": {
   "codemirror_mode": {
    "name": "ipython",
    "version": 3
   },
   "file_extension": ".py",
   "mimetype": "text/x-python",
   "name": "python",
   "nbconvert_exporter": "python",
   "pygments_lexer": "ipython3",
   "version": "3.8.5"
  }
 },
 "nbformat": 4,
 "nbformat_minor": 4
}
